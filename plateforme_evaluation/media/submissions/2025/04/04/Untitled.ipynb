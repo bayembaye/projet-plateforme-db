{
 "cells": [
  {
   "cell_type": "code",
   "execution_count": 1,
   "id": "7468e5d2",
   "metadata": {},
   "outputs": [
    {
     "name": "stdout",
     "output_type": "stream",
     "text": [
      "(270, 241, 3)\n",
      "[[[110 129 228]\n",
      "  [109 128 227]\n",
      "  [108 130 226]\n",
      "  ...\n",
      "  [ 91  93 195]\n",
      "  [ 92  96 198]\n",
      "  [ 95  98 203]]\n",
      "\n",
      " [[106 125 224]\n",
      "  [106 125 222]\n",
      "  [105 127 223]\n",
      "  ...\n",
      "  [ 90  92 194]\n",
      "  [ 92  94 196]\n",
      "  [ 91  94 198]]\n",
      "\n",
      " [[105 124 221]\n",
      "  [105 124 221]\n",
      "  [103 125 221]\n",
      "  ...\n",
      "  [ 90  92 194]\n",
      "  [ 90  92 194]\n",
      "  [ 89  91 193]]\n",
      "\n",
      " ...\n",
      "\n",
      " [[173 176 227]\n",
      "  [175 180 235]\n",
      "  [101 106 175]\n",
      "  ...\n",
      "  [113  96 169]\n",
      "  [102  84 155]\n",
      "  [102  83 152]]\n",
      "\n",
      " [[169 174 223]\n",
      "  [173 179 232]\n",
      "  [ 97 103 170]\n",
      "  ...\n",
      "  [111  95 166]\n",
      "  [ 98  80 151]\n",
      "  [ 97  76 145]]\n",
      "\n",
      " [[167 173 220]\n",
      "  [166 172 225]\n",
      "  [ 90  99 163]\n",
      "  ...\n",
      "  [109  93 164]\n",
      "  [ 92  74 145]\n",
      "  [ 95  74 143]]]\n"
     ]
    }
   ],
   "source": [
    "import cv2\n",
    "img = cv2.imread('lenna.jpeg')\n",
    "print(img.shape)\n",
    "print(img)"
   ]
  },
  {
   "cell_type": "code",
   "execution_count": 2,
   "id": "ffec598f",
   "metadata": {},
   "outputs": [
    {
     "data": {
      "text/plain": [
       "-1"
      ]
     },
     "execution_count": 2,
     "metadata": {},
     "output_type": "execute_result"
    }
   ],
   "source": [
    "img2 =img[:,:,0]\n",
    "cv2.imshow('fig2',img2)\n",
    "cv2.waitKey(0)"
   ]
  },
  {
   "cell_type": "code",
   "execution_count": null,
   "id": "bb14c16c",
   "metadata": {},
   "outputs": [],
   "source": [
    "img[:,:,1]=0\n",
    "img[:,:,0]=0\n",
    "cv2.imshow('fig2',img)\n",
    "cv2.waitKey(0)"
   ]
  },
  {
   "cell_type": "code",
   "execution_count": 9,
   "id": "c2f6c8cc",
   "metadata": {},
   "outputs": [
    {
     "ename": "AttributeError",
     "evalue": "module 'cv2' has no attribute 'waitkey'",
     "output_type": "error",
     "traceback": [
      "\u001b[1;31m---------------------------------------------------------------------------\u001b[0m",
      "\u001b[1;31mAttributeError\u001b[0m                            Traceback (most recent call last)",
      "Cell \u001b[1;32mIn[9], line 5\u001b[0m\n\u001b[0;32m      3\u001b[0m test,img\u001b[38;5;241m=\u001b[39mcap\u001b[38;5;241m.\u001b[39mread()\n\u001b[0;32m      4\u001b[0m cv2\u001b[38;5;241m.\u001b[39mimshow(\u001b[38;5;124m'\u001b[39m\u001b[38;5;124mfig\u001b[39m\u001b[38;5;124m'\u001b[39m,img)\n\u001b[1;32m----> 5\u001b[0m \u001b[43mcv2\u001b[49m\u001b[38;5;241;43m.\u001b[39;49m\u001b[43mwaitkey\u001b[49m(\u001b[38;5;241m1\u001b[39m)\n",
      "\u001b[1;31mAttributeError\u001b[0m: module 'cv2' has no attribute 'waitkey'"
     ]
    }
   ],
   "source": [
    "cap = cv2.VideoCapture(0)\n",
    "while True:\n",
    "    test,img=cap.read()\n",
    "    cv2.imshow('fig',img)\n",
    "    cv2.waitkey(1)"
   ]
  },
  {
   "cell_type": "code",
   "execution_count": null,
   "id": "1bd6c9a4",
   "metadata": {},
   "outputs": [],
   "source": []
  },
  {
   "cell_type": "code",
   "execution_count": null,
   "id": "0377472b",
   "metadata": {},
   "outputs": [],
   "source": []
  }
 ],
 "metadata": {
  "kernelspec": {
   "display_name": "Python 3 (ipykernel)",
   "language": "python",
   "name": "python3"
  },
  "language_info": {
   "codemirror_mode": {
    "name": "ipython",
    "version": 3
   },
   "file_extension": ".py",
   "mimetype": "text/x-python",
   "name": "python",
   "nbconvert_exporter": "python",
   "pygments_lexer": "ipython3",
   "version": "3.10.9"
  }
 },
 "nbformat": 4,
 "nbformat_minor": 5
}
